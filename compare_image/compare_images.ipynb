{
  "nbformat": 4,
  "nbformat_minor": 0,
  "metadata": {
    "colab": {
      "provenance": []
    },
    "kernelspec": {
      "name": "python3",
      "display_name": "Python 3"
    },
    "language_info": {
      "name": "python"
    }
  },
  "cells": [
    {
      "cell_type": "code",
      "execution_count": null,
      "metadata": {
        "colab": {
          "base_uri": "https://localhost:8080/"
        },
        "id": "9VJDrf12uPS4",
        "outputId": "a3d1bbc7-c15c-40a0-d3fe-6820ab024572"
      },
      "outputs": [
        {
          "output_type": "stream",
          "name": "stdout",
          "text": [
            "Overwriting compare_images.py\n"
          ]
        }
      ],
      "source": [
        "%%writefile compare_images.py\n",
        "import cv2\n",
        "import numpy as np\n",
        "import argparse\n",
        "from skimage.metrics import structural_similarity as ssim\n",
        "\n",
        "if __name__ == '__main__':\n",
        "  parser = argparse.ArgumentParser()\n",
        "\n",
        "  # Thêm các đối số\n",
        "  parser.add_argument(\"-img_1\", type=str, help='path file input1')\n",
        "  parser.add_argument(\"-img_2\", type=str, help='path file input1')\n",
        "\n",
        "  # Phân tích các tham số dòng lệnh\n",
        "  args = parser.parse_args()\n",
        "\n",
        "  # Đọc hai bức ảnh\n",
        "  image1 = cv2.imread(args.img_1, cv2.IMREAD_COLOR)\n",
        "  image2 = cv2.imread(args.img_2, cv2.IMREAD_COLOR)\n",
        "\n",
        "  # Đảm bảo rằng cả hai ảnh có cùng kích thước\n",
        "  if image1.shape == image2.shape:\n",
        "      # Tính toán sai số trung bình bình phương (MSE)\n",
        "      mse = np.mean((image1 - image2)**2)\n",
        "      print(\"Sai số bình phương trung bình (MSE):\", mse)\n",
        "\n",
        "      # Tính độ tương đồng giữa hai bức ảnh\n",
        "      similarity_score = ssim(image1, image2, channel_axis=2)\n",
        "\n",
        "      print(\"Độ giống nhau:\", similarity_score*100,\"%\")\n",
        "  else:\n",
        "      print(\"Hai bức ảnh không cùng kích thước.\")"
      ]
    },
    {
      "cell_type": "markdown",
      "source": [
        "### Sequential vs Parallel CPU"
      ],
      "metadata": {
        "id": "HT7rW3Sq6HJI"
      }
    },
    {
      "cell_type": "code",
      "source": [
        "!python compare_images.py -img_1 /content/Sequential/insert_200rows_remove_200cols.jpg -img_2 /content/Parallel_CPU/insert_200rows_remove_200cols.jpg"
      ],
      "metadata": {
        "colab": {
          "base_uri": "https://localhost:8080/"
        },
        "id": "3J85ivpAy1Qi",
        "outputId": "5339c9e0-6fb9-4b3c-f941-80308590b135"
      },
      "execution_count": null,
      "outputs": [
        {
          "output_type": "stream",
          "name": "stdout",
          "text": [
            "Sai số bình phương trung bình (MSE): 0.0\n",
            "Độ giống nhau: 100.0 %\n"
          ]
        }
      ]
    },
    {
      "cell_type": "markdown",
      "source": [
        "### Sequential vs Parallel GPU v1"
      ],
      "metadata": {
        "id": "Ezdvrm-e6Nxj"
      }
    },
    {
      "cell_type": "code",
      "source": [
        "!python compare_images.py -img_1 /content/Sequential/insert_200rows_remove_200cols.jpg -img_2 /content/Parallel_GPU_v1/insert_200rows_remove_200cols.jpg"
      ],
      "metadata": {
        "colab": {
          "base_uri": "https://localhost:8080/"
        },
        "id": "TpLq0AGzzfTG",
        "outputId": "4309c6b5-d733-438a-a2a6-f196899b08a1"
      },
      "execution_count": null,
      "outputs": [
        {
          "output_type": "stream",
          "name": "stdout",
          "text": [
            "Sai số bình phương trung bình (MSE): 0.0\n",
            "Độ giống nhau: 100.0 %\n"
          ]
        }
      ]
    },
    {
      "cell_type": "markdown",
      "source": [
        "### Sequential vs Parallel GPU v2"
      ],
      "metadata": {
        "id": "qXRKJr9z6Sf3"
      }
    },
    {
      "cell_type": "code",
      "source": [
        "!python compare_images.py -img_1 /content/Sequential/insert_200rows_remove_200cols.jpg -img_2 /content/Parallel_GPU_v2/insert_200rows_remove_200cols.jpg"
      ],
      "metadata": {
        "colab": {
          "base_uri": "https://localhost:8080/"
        },
        "id": "o7TSboV00Iqo",
        "outputId": "32a1b0d4-cc54-49fc-c847-a293f3c30db1"
      },
      "execution_count": null,
      "outputs": [
        {
          "output_type": "stream",
          "name": "stdout",
          "text": [
            "Sai số bình phương trung bình (MSE): 59.68533950617284\n",
            "Độ giống nhau: 51.154298485113756 %\n"
          ]
        }
      ]
    }
  ]
}